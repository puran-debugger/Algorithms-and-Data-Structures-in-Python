{
 "cells": [
  {
   "cell_type": "markdown",
   "metadata": {},
   "source": [
    "## Two Sum #1\n",
    "Given an array of integers, return `indices` of the two numbers such that they add up to a specific target.\n",
    "\n",
    "You may assume that each input would have `exactly` one solution, and you may not use the same element twice.\n",
    "\n",
    "**Example:**\n",
    "\n",
    "Given nums = [2, 7, 11, 15], target = 9,\n",
    "\n",
    "Because nums[0] + nums[1] = 2 + 7 = 9,<br>\n",
    "return [0, 1]."
   ]
  },
  {
   "cell_type": "code",
   "execution_count": 2,
   "metadata": {
    "ExecuteTime": {
     "end_time": "2020-08-20T03:31:38.711074Z",
     "start_time": "2020-08-20T03:31:38.694028Z"
    }
   },
   "outputs": [
    {
     "name": "stdout",
     "output_type": "stream",
     "text": [
      "[0, 1]\n"
     ]
    }
   ],
   "source": [
    "# construct lookup O(N), check if diff in lookup O(1), final O(N)\n",
    "\n",
    "class Solution(object):\n",
    "    def twoSum(self, nums, target):\n",
    "        lookup = {} #dictionary:hash\n",
    "        for i, num in enumerate(nums):#enumerate() return (index, element)\n",
    "            if target - num in lookup:\n",
    "                return[lookup[target-num], i]\n",
    "            lookup[num] = i\n",
    "        return []\n",
    "\n",
    "#use this ' if __name__ == \"main\" ' block to prevent (certain) code from being run when the module is imported.\n",
    "if __name__ == '__main__':\n",
    "    nums= [2,7,11,15]\n",
    "    target=9\n",
    "    sol=Solution()\n",
    "    n=sol.twoSum(nums, target)\n",
    "    print(n)\n",
    "            "
   ]
  },
  {
   "cell_type": "markdown",
   "metadata": {},
   "source": [
    "## Three Sum #15\n",
    "Given an array `nums` of n integers, are there elements a, b, c in `nums` such that a + b + c = 0?<br>\n",
    "Find all unique triplets in the array which gives the sum of zero.\n",
    "\n",
    "**Note:**\n",
    "\n",
    "The solution set must not contain duplicate triplets.\n",
    "\n",
    "**Example:**\n",
    "\n",
    "Given array nums = [-1, 0, 1, 2, -1, -4],\n",
    "\n",
    "A solution set is:\n",
    "[\n",
    "  [-1, 0, 1],\n",
    "  [-1, -1, 2]\n",
    "]"
   ]
  },
  {
   "cell_type": "code",
   "execution_count": null,
   "metadata": {},
   "outputs": [],
   "source": []
  },
  {
   "cell_type": "markdown",
   "metadata": {},
   "source": [
    "## 3Sum Closest #16\n",
    "Given an array `nums` of n integers and an integer `target`, find three integers in `nums` such that the sum is closest to `target`. Return the sum of the three integers. You may assume that each input would have exactly one solution.\n",
    "\n",
    " \n",
    "\n",
    "**Example 1:**\n",
    "\n",
    "Input: nums = [-1,2,1,-4], target = 1<br>\n",
    "Output: 2<br>\n",
    "Explanation: The sum that is closest to the target is 2. (-1 + 2 + 1 = 2).<br>\n",
    " \n",
    "\n",
    "**Constraints:**\n",
    "\n",
    "3 <= nums.length <= 10^3<br>\n",
    "-10^3 <= nums[i] <= 10^3<br>\n",
    "-10^4 <= target <= 10^4<br>"
   ]
  },
  {
   "cell_type": "code",
   "execution_count": null,
   "metadata": {},
   "outputs": [],
   "source": []
  },
  {
   "cell_type": "markdown",
   "metadata": {},
   "source": [
    "## 4 Sum #18\n",
    "Given an array `nums` of n integers and an integer `target`, are there elements a, b, c, and d in `nums` such that a + b + c + d = `target`?<br> Find all unique quadruplets in the array which gives the sum of `target`.\n",
    "\n",
    "**Note:**\n",
    "\n",
    "The solution set must not contain duplicate quadruplets.\n",
    "\n",
    "**Example:**\n",
    "\n",
    "Given array nums = [1, 0, -1, 0, -2, 2], and target = 0.\n",
    "\n",
    "A solution set is:<br>\n",
    "[<br>\n",
    "  [-1,  0, 0, 1],<br>\n",
    "  [-2, -1, 1, 2],<br>\n",
    "  [-2,  0, 0, 2]<br>\n",
    "]"
   ]
  },
  {
   "cell_type": "code",
   "execution_count": null,
   "metadata": {},
   "outputs": [],
   "source": []
  }
 ],
 "metadata": {
  "hide_input": false,
  "kernelspec": {
   "display_name": "Python 3",
   "language": "python",
   "name": "python3"
  },
  "language_info": {
   "codemirror_mode": {
    "name": "ipython",
    "version": 3
   },
   "file_extension": ".py",
   "mimetype": "text/x-python",
   "name": "python",
   "nbconvert_exporter": "python",
   "pygments_lexer": "ipython3",
   "version": "3.7.3"
  },
  "toc": {
   "base_numbering": 1,
   "nav_menu": {},
   "number_sections": true,
   "sideBar": true,
   "skip_h1_title": false,
   "title_cell": "Table of Contents",
   "title_sidebar": "Contents",
   "toc_cell": false,
   "toc_position": {},
   "toc_section_display": true,
   "toc_window_display": false
  }
 },
 "nbformat": 4,
 "nbformat_minor": 2
}
